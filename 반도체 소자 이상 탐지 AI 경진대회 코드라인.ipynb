{
 "cells": [
  {
   "cell_type": "markdown",
   "metadata": {},
   "source": [
    "## 반도체 소자 이상 탐지 AI 경진대회\n",
    "\n",
    "- 알고리즘 ㅣ 월간데이콘 ㅣ 비전 ㅣ 비지도학습 ㅣ 이상 탐지 ㅣF1 Score"
   ]
  },
  {
   "cell_type": "code",
   "execution_count": null,
   "metadata": {},
   "outputs": [],
   "source": [
    "# Dataset Info.\n",
    "\n",
    "# train [폴더]\n",
    "# 학습용 정상 반도체 소자 이미지 샘플 213개\n",
    "# TRAIN_000.png ~ TRAIN_212.png\n",
    "\n",
    "\n",
    "# test [폴더]\n",
    "# 평가용 반도체 소자 이미지 샘플 100개\n",
    "# TEST_000.png ~ TEST_099.png\n",
    "\n",
    "\n",
    "# train.csv [파일] \n",
    "# ID : 샘플 ID\n",
    "# img_path : 반도체 소자 이미지 파일 경로\n",
    "# label : 0 (정상)\n",
    "\n",
    "\n",
    "# test.csv [파일]\n",
    "# ID : 샘플 ID\n",
    "# img_path : 반도체 소자 이미지 파일 경로\n",
    "\n",
    "\n",
    "# sample_submission.csv [파일] - 제출 양식\n",
    "# ID : 샘플 ID\n",
    "# label : 0 (정상), 1 (비정상)\n",
    "\n",
    "\n",
    "# 데이터는 Creative Commons Attribution-NonCommercial-ShareAlike 4.0 International License (CC BY-NC-SA 4.0)에 따라 공개됩니다.\n",
    "\n",
    "# Paul Bergmann, Kilian Batzner, Michael Fauser, David Sattlegger, Carsten Steger: The MVTec Anomaly Detection Dataset: A Comprehensive Real-World Dataset for Unsupervised Anomaly Detection; in: International Journal of Computer Vision 129(4):1038-1059, 2021, DOI: 10.1007/s11263-020-01400-4.\n",
    "\n",
    "# Paul Bergmann, Michael Fauser, David Sattlegger, Carsten Steger: MVTec AD — A Comprehensive Real-World Dataset for Unsupervised Anomaly Detection; in: IEEE/CVF Conference on Computer Vision and Pattern Recognition (CVPR), 9584-9592, 2019, DOI: 10.1109/CVPR.2019.00982.\n",
    "\n"
   ]
  },
  {
   "cell_type": "markdown",
   "metadata": {},
   "source": [
    "## Import Functions"
   ]
  },
  {
   "cell_type": "code",
   "execution_count": 1,
   "metadata": {},
   "outputs": [],
   "source": [
    "import pandas as pd\n",
    "import numpy as np\n",
    "import torch\n",
    "from torchvision import models, transforms\n",
    "from torch.utils.data import DataLoader, Dataset\n",
    "from PIL import Image\n",
    "from sklearn.ensemble import IsolationForest\n",
    "from tqdm import tqdm\n",
    "\n",
    "# GPU 사용 설정\n",
    "\n",
    "device = torch.device('cuda' if torch.cuda.is_available() else 'cpu')"
   ]
  },
  {
   "cell_type": "markdown",
   "metadata": {},
   "source": [
    "## Load Data"
   ]
  },
  {
   "cell_type": "code",
   "execution_count": null,
   "metadata": {},
   "outputs": [],
   "source": [
    "# 데이터 로딩 클래스 정의\n",
    "\n",
    "class CustomDataset(Dataset):\n",
    "    \n",
    "    def __init__(self, csv_file, transform=None):\n",
    "        '''\n",
    "        Args:\n",
    "            csv_file (string) : csv 파일의 경로.\n",
    "            transform (callable, optional) : 샘플에 적용될 Optional transform.\n",
    "        '''\n",
    "        \n",
    "        self.df = pd.read_csv(csv_file)\n",
    "        self.transform = transform\n",
    "        \n",
    "    def __len__(self):\n",
    "        return len(self.df)\n",
    "    \n",
    "    def __getitem__(self, idx):\n",
    "        img_path = self.df['img_path'].iloc[idx]\n",
    "        image = Image.open(img_path)\n",
    "        if self.transform:\n",
    "            image = self.transform(image)\n",
    "        return image\n",
    "\n",
    "\n",
    "# 이미지 전처리 및 임베딩\n",
    "transform= transforms.Compose([\n",
    "    transforms.Resize((224, 224)),\n",
    "    transforms.ToTensor(),\n",
    "    transforms.Normalize(mean=[0.485, 0.456, 0.406], std=[0.229, 0.224, 0.225]),])\n",
    "\n",
    "train_data = CustomDataset(csv_file='./train.csv', transform=transform)\n",
    "train_loader = DataLoader(train_data, batch_size=32, shuffle=False)\n",
    "\n",
    "\n",
    "\n"
   ]
  },
  {
   "cell_type": "markdown",
   "metadata": {},
   "source": [
    "## Export Embedding Vector"
   ]
  },
  {
   "cell_type": "code",
   "execution_count": null,
   "metadata": {},
   "outputs": [],
   "source": [
    "'''\n",
    "\n",
    "이미지 데이터를 머신러닝 데이터에서 활용하기 위해 임베딩 벡터를 추출함.\n",
    "\n",
    "이를 위해서 ImageNet 분류를 위해 만들어진 사전학습 모델인 ResNet-50을 활용함.\n",
    "\n",
    "이런 ResNet-50 모델은 ImageNet에 존재하는 대량에 데이터로 학습되어 이미지에 존재하는 특정들에 대해서 잘 학습되어 있음. \n",
    "\n",
    "이 모델을 원래 의도된 분류를 위해 사용하지 않고, 모델이 가진 정보만을 이용해서 원하는 작업에 활용하는 것도 가능.\n",
    "\n",
    "본 베이스라인의 경우 대회의 데이터셋에 대해서 ResNet-50 모델이 인식하는 정보를 추출하는 것이 목표이기 때문에, \n",
    "\n",
    "해당 모델의 마지막 레이어(분류 레이어)를 제거하고 ResNet-50이 대회 데이터셋에 대해서 인식하는 임베딩 벡터를 추출할 것.\n",
    "\n",
    "\n",
    "'''\n",
    "\n"
   ]
  },
  {
   "cell_type": "code",
   "execution_count": null,
   "metadata": {},
   "outputs": [],
   "source": []
  }
 ],
 "metadata": {
  "kernelspec": {
   "display_name": "rollbackTarget",
   "language": "python",
   "name": "conda"
  },
  "language_info": {
   "codemirror_mode": {
    "name": "ipython",
    "version": 3
   },
   "file_extension": ".py",
   "mimetype": "text/x-python",
   "name": "python",
   "nbconvert_exporter": "python",
   "pygments_lexer": "ipython3",
   "version": "3.11.5"
  }
 },
 "nbformat": 4,
 "nbformat_minor": 2
}
