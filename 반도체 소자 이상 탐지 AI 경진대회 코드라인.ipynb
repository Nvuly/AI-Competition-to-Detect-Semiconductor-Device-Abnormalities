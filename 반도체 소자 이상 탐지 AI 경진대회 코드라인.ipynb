{
 "cells": [
  {
   "cell_type": "markdown",
   "metadata": {},
   "source": [
    "## 반도체 소자 이상 탐지 AI 경진대회\n",
    "\n",
    "- 알고리즘 ㅣ 월간데이콘 ㅣ 비전 ㅣ 비지도학습 ㅣ 이상 탐지 ㅣF1 Score"
   ]
  },
  {
   "cell_type": "code",
   "execution_count": null,
   "metadata": {},
   "outputs": [],
   "source": [
    "# Dataset Info.\n",
    "\n",
    "# train [폴더]\n",
    "# 학습용 정상 반도체 소자 이미지 샘플 213개\n",
    "# TRAIN_000.png ~ TRAIN_212.png\n",
    "\n",
    "\n",
    "# test [폴더]\n",
    "# 평가용 반도체 소자 이미지 샘플 100개\n",
    "# TEST_000.png ~ TEST_099.png\n",
    "\n",
    "\n",
    "# train.csv [파일] \n",
    "# ID : 샘플 ID\n",
    "# img_path : 반도체 소자 이미지 파일 경로\n",
    "# label : 0 (정상)\n",
    "\n",
    "\n",
    "# test.csv [파일]\n",
    "# ID : 샘플 ID\n",
    "# img_path : 반도체 소자 이미지 파일 경로\n",
    "\n",
    "\n",
    "# sample_submission.csv [파일] - 제출 양식\n",
    "# ID : 샘플 ID\n",
    "# label : 0 (정상), 1 (비정상)\n",
    "\n",
    "\n",
    "# 데이터는 Creative Commons Attribution-NonCommercial-ShareAlike 4.0 International License (CC BY-NC-SA 4.0)에 따라 공개됩니다.\n",
    "\n",
    "# Paul Bergmann, Kilian Batzner, Michael Fauser, David Sattlegger, Carsten Steger: The MVTec Anomaly Detection Dataset: A Comprehensive Real-World Dataset for Unsupervised Anomaly Detection; in: International Journal of Computer Vision 129(4):1038-1059, 2021, DOI: 10.1007/s11263-020-01400-4.\n",
    "\n",
    "# Paul Bergmann, Michael Fauser, David Sattlegger, Carsten Steger: MVTec AD — A Comprehensive Real-World Dataset for Unsupervised Anomaly Detection; in: IEEE/CVF Conference on Computer Vision and Pattern Recognition (CVPR), 9584-9592, 2019, DOI: 10.1109/CVPR.2019.00982.\n",
    "\n"
   ]
  },
  {
   "cell_type": "markdown",
   "metadata": {},
   "source": [
    "## Import Functions"
   ]
  },
  {
   "cell_type": "code",
   "execution_count": 1,
   "metadata": {},
   "outputs": [],
   "source": [
    "import pandas as pd\n",
    "import numpy as np\n",
    "import torch\n",
    "from torchvision import models, transforms\n",
    "from torch.utils.data import DataLoader, Dataset\n",
    "from PIL import Image\n",
    "from sklearn.ensemble import IsolationForest\n",
    "from tqdm import tqdm\n",
    "\n",
    "# GPU 사용 설정\n",
    "\n",
    "device = torch.device('cuda' if torch.cuda.is_available() else 'cpu')"
   ]
  },
  {
   "cell_type": "code",
   "execution_count": null,
   "metadata": {},
   "outputs": [],
   "source": []
  }
 ],
 "metadata": {
  "kernelspec": {
   "display_name": "rollbackTarget",
   "language": "python",
   "name": "conda"
  },
  "language_info": {
   "codemirror_mode": {
    "name": "ipython",
    "version": 3
   },
   "file_extension": ".py",
   "mimetype": "text/x-python",
   "name": "python",
   "nbconvert_exporter": "python",
   "pygments_lexer": "ipython3",
   "version": "3.11.5"
  }
 },
 "nbformat": 4,
 "nbformat_minor": 2
}
